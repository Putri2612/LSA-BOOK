{
 "cells": [
  {
   "cell_type": "markdown",
   "metadata": {},
   "source": [
    "# LSA"
   ]
  },
  {
   "cell_type": "markdown",
   "metadata": {},
   "source": [
    "LSA (Latent Semantic Analysis) juga dikenal sebagai LSI (Latent Semantic Index). LSA menggunakan Bag of Word(BoW) model yang nantinya akan menghasilkan term-document matrix. Baris mewakili istilah dan kolom mewakili dokumen. LSA mempelajari topik laten dengan melakukan dekomposisi matriks pada matriks istilah dokumen menggunakan dekomposisi nilai Singular. Beberapa langkah yang harus dilakukan yaitu :"
   ]
  },
  {
   "cell_type": "markdown",
   "metadata": {},
   "source": [
    "### 1. Crawling Data"
   ]
  },
  {
   "cell_type": "markdown",
   "metadata": {},
   "source": [
    "Untuk dapat melakukan crawling data, gunakan library scrapy. Install terlebih dahulu scrapynya dengan mengetikkan perintah dibawah ini pada command prompt atau Anaconda Prompt."
   ]
  },
  {
   "cell_type": "code",
   "execution_count": null,
   "metadata": {},
   "outputs": [],
   "source": [
    "pip install scrapy"
   ]
  },
  {
   "cell_type": "markdown",
   "metadata": {},
   "source": [
    "Lalu setelah proses selesai, jalankan perintah untuk melakukan setup pada Spider."
   ]
  },
  {
   "cell_type": "code",
   "execution_count": null,
   "metadata": {},
   "outputs": [],
   "source": [
    "scrapy startproject WebScrapingBerita"
   ]
  },
  {
   "cell_type": "markdown",
   "metadata": {},
   "source": [
    "Selanjutnya untuk membuat scraper atau crawler, kita harus menambahkan file .py baru di dalam directory, buat file baru bernama berita.py lalu tuliskan script sebagai berikut "
   ]
  },
  {
   "cell_type": "code",
   "execution_count": null,
   "metadata": {},
   "outputs": [],
   "source": [
    "import scrapy\n",
    "\n",
    "\n",
    "class BeritaSpider(scrapy.Spider):\n",
    "    name = 'berita'\n",
    "    allowed_domains = ['www.liputan6.com']\n",
    "    start_urls = ['http://www.liputan6.com/']\n",
    "\n",
    "    def parse(self, response):\n",
    "            cont = response.css('.articles--iridescent-list--text-item__details')\n",
    "\n",
    "            #collecting data\n",
    "            kat = cont.css('.articles--iridescent-list--text-item__category')\n",
    "            judul = cont.css('.articles--iridescent-list--text-item__title-link-text')\n",
    "            c=0\n",
    "            \n",
    "            #combining the results\n",
    "            for review in kat:\n",
    "                yield{'Kategori': ''.join(review.xpath('.//text()').extract()),\n",
    "                      'Judul': ''.join(judul[c].xpath('.//text()').extract()),\n",
    "                \n",
    "                    }\n",
    "                c=c+1\n"
   ]
  },
  {
   "cell_type": "markdown",
   "metadata": {},
   "source": [
    "Selanjutnya melalui terminal, masuk terlebih dahulu ke dalam directori WebScrapingBerita/WebScrapingBerita/spiders, lalu jalankan perintah:"
   ]
  },
  {
   "cell_type": "code",
   "execution_count": null,
   "metadata": {},
   "outputs": [],
   "source": [
    "scrapy runspider berita.py -o Berita.csv"
   ]
  },
  {
   "cell_type": "markdown",
   "metadata": {},
   "source": [
    "Maka akan tampil hasil dari crawling dalam bentuk file csv. Langkah selanjutnya yang perlu dilakukan adalah preprocessing."
   ]
  },
  {
   "cell_type": "markdown",
   "metadata": {},
   "source": [
    "### 2. Preprocessing"
   ]
  },
  {
   "cell_type": "markdown",
   "metadata": {},
   "source": [
    "Data preprocessing adalah proses yang mengubah data mentah ke dalam bentuk yang lebih mudah dipahami. Proses ini penting dilakukan karena data mentah sering kali tidak memiliki format yang teratur. Pertama,lakukan import libary yang diperlukan dalam langkah preprocessing dan LSA."
   ]
  },
  {
   "cell_type": "code",
   "execution_count": 2,
   "metadata": {},
   "outputs": [],
   "source": [
    "# data visualisation and manipulation\n",
    "import numpy as np\n",
    "import pandas as pd\n",
    "import matplotlib.pyplot as plt\n",
    "from matplotlib import style\n",
    "import seaborn as sns\n",
    "#configure\n",
    "# sets matplotlib to inline and displays graphs below the corressponding cell.\n",
    "%matplotlib inline  \n",
    "style.use('fivethirtyeight')\n",
    "sns.set(style='whitegrid',color_codes=True)\n",
    "\n",
    "#import nltk\n",
    "import nltk\n",
    "from nltk.corpus import stopwords\n",
    "from nltk.tokenize import word_tokenize,sent_tokenize\n",
    "\n",
    "#preprocessing\n",
    "from nltk.corpus import stopwords  #stopwords\n",
    "from nltk import word_tokenize,sent_tokenize # tokenizing\n",
    "from nltk.stem import PorterStemmer,LancasterStemmer  # using the Porter Stemmer and Lancaster Stemmer and others\n",
    "from nltk.stem.snowball import SnowballStemmer\n",
    "from nltk.stem import WordNetLemmatizer  # lammatizer from WordNet\n",
    "\n",
    "# for named entity recognition (NER)\n",
    "from nltk import ne_chunk\n",
    "\n",
    "# vectorizers for creating the document-term-matrix (DTM)\n",
    "from sklearn.feature_extraction.text import TfidfVectorizer,CountVectorizer\n",
    "\n",
    "#stop-words\n",
    "stop_words=set(nltk.corpus.stopwords.words('indonesian'))"
   ]
  },
  {
   "cell_type": "markdown",
   "metadata": {},
   "source": [
    "load dataset yang akan di preprocessing dengan menggunakan library pandas untuk membaca file csv."
   ]
  },
  {
   "cell_type": "code",
   "execution_count": 3,
   "metadata": {},
   "outputs": [
    {
     "data": {
      "text/html": [
       "<div>\n",
       "<style scoped>\n",
       "    .dataframe tbody tr th:only-of-type {\n",
       "        vertical-align: middle;\n",
       "    }\n",
       "\n",
       "    .dataframe tbody tr th {\n",
       "        vertical-align: top;\n",
       "    }\n",
       "\n",
       "    .dataframe thead th {\n",
       "        text-align: right;\n",
       "    }\n",
       "</style>\n",
       "<table border=\"1\" class=\"dataframe\">\n",
       "  <thead>\n",
       "    <tr style=\"text-align: right;\">\n",
       "      <th></th>\n",
       "      <th>Kategori</th>\n",
       "      <th>Judul</th>\n",
       "    </tr>\n",
       "  </thead>\n",
       "  <tbody>\n",
       "    <tr>\n",
       "      <th>0</th>\n",
       "      <td>Infografis</td>\n",
       "      <td>Infografis Peta Jalur Mudik Lebaran 2022 Rawan...</td>\n",
       "    </tr>\n",
       "    <tr>\n",
       "      <th>1</th>\n",
       "      <td>Bola</td>\n",
       "      <td>Bola Ganjil: Kakak Beradik Penyumbang Gol Timnas</td>\n",
       "    </tr>\n",
       "    <tr>\n",
       "      <th>2</th>\n",
       "      <td>Infografis</td>\n",
       "      <td>Infografis Kuota Haji 2022 Indonesia, Biaya pe...</td>\n",
       "    </tr>\n",
       "    <tr>\n",
       "      <th>3</th>\n",
       "      <td>Surabaya</td>\n",
       "      <td>AHY Optimistis Emil Dardak Jadi Harapan Baru D...</td>\n",
       "    </tr>\n",
       "    <tr>\n",
       "      <th>4</th>\n",
       "      <td>Megapolitan</td>\n",
       "      <td>Tebet Eco Park Jakarta Selatan Resmi Dibuka un...</td>\n",
       "    </tr>\n",
       "  </tbody>\n",
       "</table>\n",
       "</div>"
      ],
      "text/plain": [
       "      Kategori                                              Judul\n",
       "0   Infografis  Infografis Peta Jalur Mudik Lebaran 2022 Rawan...\n",
       "1         Bola   Bola Ganjil: Kakak Beradik Penyumbang Gol Timnas\n",
       "2   Infografis  Infografis Kuota Haji 2022 Indonesia, Biaya pe...\n",
       "3     Surabaya  AHY Optimistis Emil Dardak Jadi Harapan Baru D...\n",
       "4  Megapolitan  Tebet Eco Park Jakarta Selatan Resmi Dibuka un..."
      ]
     },
     "execution_count": 3,
     "metadata": {},
     "output_type": "execute_result"
    }
   ],
   "source": [
    "df = pd.read_csv('berita.csv')\n",
    "df.head() #menampilkan 5 data teratas"
   ]
  },
  {
   "cell_type": "markdown",
   "metadata": {},
   "source": [
    "Proses selanjutnya hapus kolom 'Kategori' karena tidak terlalu berguna dalam proses LSA nantinya."
   ]
  },
  {
   "cell_type": "code",
   "execution_count": 4,
   "metadata": {},
   "outputs": [
    {
     "data": {
      "text/html": [
       "<div>\n",
       "<style scoped>\n",
       "    .dataframe tbody tr th:only-of-type {\n",
       "        vertical-align: middle;\n",
       "    }\n",
       "\n",
       "    .dataframe tbody tr th {\n",
       "        vertical-align: top;\n",
       "    }\n",
       "\n",
       "    .dataframe thead th {\n",
       "        text-align: right;\n",
       "    }\n",
       "</style>\n",
       "<table border=\"1\" class=\"dataframe\">\n",
       "  <thead>\n",
       "    <tr style=\"text-align: right;\">\n",
       "      <th></th>\n",
       "      <th>Judul</th>\n",
       "    </tr>\n",
       "  </thead>\n",
       "  <tbody>\n",
       "    <tr>\n",
       "      <th>0</th>\n",
       "      <td>Infografis Peta Jalur Mudik Lebaran 2022 Rawan...</td>\n",
       "    </tr>\n",
       "    <tr>\n",
       "      <th>1</th>\n",
       "      <td>Bola Ganjil: Kakak Beradik Penyumbang Gol Timnas</td>\n",
       "    </tr>\n",
       "    <tr>\n",
       "      <th>2</th>\n",
       "      <td>Infografis Kuota Haji 2022 Indonesia, Biaya pe...</td>\n",
       "    </tr>\n",
       "    <tr>\n",
       "      <th>3</th>\n",
       "      <td>AHY Optimistis Emil Dardak Jadi Harapan Baru D...</td>\n",
       "    </tr>\n",
       "    <tr>\n",
       "      <th>4</th>\n",
       "      <td>Tebet Eco Park Jakarta Selatan Resmi Dibuka un...</td>\n",
       "    </tr>\n",
       "    <tr>\n",
       "      <th>5</th>\n",
       "      <td>Ketika Perajin Kain Daerah Berkolaborasi denga...</td>\n",
       "    </tr>\n",
       "    <tr>\n",
       "      <th>6</th>\n",
       "      <td>Sinopsis Film Ziarah yang Raih Best Screenplay...</td>\n",
       "    </tr>\n",
       "    <tr>\n",
       "      <th>7</th>\n",
       "      <td>Ramadhan di Yaman Berjalan Lancar Berkat Genca...</td>\n",
       "    </tr>\n",
       "    <tr>\n",
       "      <th>8</th>\n",
       "      <td>Kisah Antusiasme Pengusaha dan Pengemudi Bus J...</td>\n",
       "    </tr>\n",
       "    <tr>\n",
       "      <th>9</th>\n",
       "      <td>Mengenal NRG Coin, Token Kripto Blockchain Energi</td>\n",
       "    </tr>\n",
       "  </tbody>\n",
       "</table>\n",
       "</div>"
      ],
      "text/plain": [
       "                                               Judul\n",
       "0  Infografis Peta Jalur Mudik Lebaran 2022 Rawan...\n",
       "1   Bola Ganjil: Kakak Beradik Penyumbang Gol Timnas\n",
       "2  Infografis Kuota Haji 2022 Indonesia, Biaya pe...\n",
       "3  AHY Optimistis Emil Dardak Jadi Harapan Baru D...\n",
       "4  Tebet Eco Park Jakarta Selatan Resmi Dibuka un...\n",
       "5  Ketika Perajin Kain Daerah Berkolaborasi denga...\n",
       "6  Sinopsis Film Ziarah yang Raih Best Screenplay...\n",
       "7  Ramadhan di Yaman Berjalan Lancar Berkat Genca...\n",
       "8  Kisah Antusiasme Pengusaha dan Pengemudi Bus J...\n",
       "9  Mengenal NRG Coin, Token Kripto Blockchain Energi"
      ]
     },
     "execution_count": 4,
     "metadata": {},
     "output_type": "execute_result"
    }
   ],
   "source": [
    "# drop the kategori data.\n",
    "df.drop(['Kategori'],axis=1,inplace=True)\n",
    "df.head(10)"
   ]
  },
  {
   "cell_type": "markdown",
   "metadata": {},
   "source": [
    "Dilanjutkan dengan proses tokenizing untuk memotong kalimat menjadi kata dengan cara memotong kata pada white space atau spasi dan membuang karakter tanda baca. Di sini lakukan preprocessing data. "
   ]
  },
  {
   "cell_type": "code",
   "execution_count": 5,
   "metadata": {},
   "outputs": [],
   "source": [
    "#fungsi clean_text\n",
    "def clean_text(headline):\n",
    "  le=WordNetLemmatizer()\n",
    "  word_tokens=word_tokenize(headline)\n",
    "  tokens=[le.lemmatize(w) for w in word_tokens if w not in stop_words  and len(w)>3]\n",
    "  cleaned_text=\" \".join(tokens)\n",
    "  return cleaned_text\n"
   ]
  },
  {
   "cell_type": "code",
   "execution_count": 6,
   "metadata": {},
   "outputs": [
    {
     "data": {
      "text/html": [
       "<div>\n",
       "<style scoped>\n",
       "    .dataframe tbody tr th:only-of-type {\n",
       "        vertical-align: middle;\n",
       "    }\n",
       "\n",
       "    .dataframe tbody tr th {\n",
       "        vertical-align: top;\n",
       "    }\n",
       "\n",
       "    .dataframe thead th {\n",
       "        text-align: right;\n",
       "    }\n",
       "</style>\n",
       "<table border=\"1\" class=\"dataframe\">\n",
       "  <thead>\n",
       "    <tr style=\"text-align: right;\">\n",
       "      <th></th>\n",
       "      <th>Judul</th>\n",
       "      <th>judul_cleaned</th>\n",
       "    </tr>\n",
       "  </thead>\n",
       "  <tbody>\n",
       "    <tr>\n",
       "      <th>0</th>\n",
       "      <td>Infografis Peta Jalur Mudik Lebaran 2022 Rawan...</td>\n",
       "      <td>Infografis Peta Jalur Mudik Lebaran 2022 Rawan...</td>\n",
       "    </tr>\n",
       "    <tr>\n",
       "      <th>1</th>\n",
       "      <td>Bola Ganjil: Kakak Beradik Penyumbang Gol Timnas</td>\n",
       "      <td>Bola Ganjil Kakak Beradik Penyumbang Timnas</td>\n",
       "    </tr>\n",
       "    <tr>\n",
       "      <th>2</th>\n",
       "      <td>Infografis Kuota Haji 2022 Indonesia, Biaya pe...</td>\n",
       "      <td>Infografis Kuota Haji 2022 Indonesia Biaya Jem...</td>\n",
       "    </tr>\n",
       "    <tr>\n",
       "      <th>3</th>\n",
       "      <td>AHY Optimistis Emil Dardak Jadi Harapan Baru D...</td>\n",
       "      <td>Optimistis Emil Dardak Jadi Harapan Baru Demok...</td>\n",
       "    </tr>\n",
       "    <tr>\n",
       "      <th>4</th>\n",
       "      <td>Tebet Eco Park Jakarta Selatan Resmi Dibuka un...</td>\n",
       "      <td>Tebet Park Jakarta Selatan Resmi Dibuka Umum</td>\n",
       "    </tr>\n",
       "    <tr>\n",
       "      <th>5</th>\n",
       "      <td>Ketika Perajin Kain Daerah Berkolaborasi denga...</td>\n",
       "      <td>Ketika Perajin Kain Daerah Berkolaborasi Desai...</td>\n",
       "    </tr>\n",
       "    <tr>\n",
       "      <th>6</th>\n",
       "      <td>Sinopsis Film Ziarah yang Raih Best Screenplay...</td>\n",
       "      <td>Sinopsis Film Ziarah Raih Best Screenplay ASEA...</td>\n",
       "    </tr>\n",
       "    <tr>\n",
       "      <th>7</th>\n",
       "      <td>Ramadhan di Yaman Berjalan Lancar Berkat Genca...</td>\n",
       "      <td>Ramadhan Yaman Berjalan Lancar Berkat Gencatan...</td>\n",
       "    </tr>\n",
       "    <tr>\n",
       "      <th>8</th>\n",
       "      <td>Kisah Antusiasme Pengusaha dan Pengemudi Bus J...</td>\n",
       "      <td>Kisah Antusiasme Pengusaha Pengemudi Jelang Mu...</td>\n",
       "    </tr>\n",
       "    <tr>\n",
       "      <th>9</th>\n",
       "      <td>Mengenal NRG Coin, Token Kripto Blockchain Energi</td>\n",
       "      <td>Mengenal Coin Token Kripto Blockchain Energi</td>\n",
       "    </tr>\n",
       "  </tbody>\n",
       "</table>\n",
       "</div>"
      ],
      "text/plain": [
       "                                               Judul  \\\n",
       "0  Infografis Peta Jalur Mudik Lebaran 2022 Rawan...   \n",
       "1   Bola Ganjil: Kakak Beradik Penyumbang Gol Timnas   \n",
       "2  Infografis Kuota Haji 2022 Indonesia, Biaya pe...   \n",
       "3  AHY Optimistis Emil Dardak Jadi Harapan Baru D...   \n",
       "4  Tebet Eco Park Jakarta Selatan Resmi Dibuka un...   \n",
       "5  Ketika Perajin Kain Daerah Berkolaborasi denga...   \n",
       "6  Sinopsis Film Ziarah yang Raih Best Screenplay...   \n",
       "7  Ramadhan di Yaman Berjalan Lancar Berkat Genca...   \n",
       "8  Kisah Antusiasme Pengusaha dan Pengemudi Bus J...   \n",
       "9  Mengenal NRG Coin, Token Kripto Blockchain Energi   \n",
       "\n",
       "                                       judul_cleaned  \n",
       "0  Infografis Peta Jalur Mudik Lebaran 2022 Rawan...  \n",
       "1        Bola Ganjil Kakak Beradik Penyumbang Timnas  \n",
       "2  Infografis Kuota Haji 2022 Indonesia Biaya Jem...  \n",
       "3  Optimistis Emil Dardak Jadi Harapan Baru Demok...  \n",
       "4       Tebet Park Jakarta Selatan Resmi Dibuka Umum  \n",
       "5  Ketika Perajin Kain Daerah Berkolaborasi Desai...  \n",
       "6  Sinopsis Film Ziarah Raih Best Screenplay ASEA...  \n",
       "7  Ramadhan Yaman Berjalan Lancar Berkat Gencatan...  \n",
       "8  Kisah Antusiasme Pengusaha Pengemudi Jelang Mu...  \n",
       "9       Mengenal Coin Token Kripto Blockchain Energi  "
      ]
     },
     "execution_count": 6,
     "metadata": {},
     "output_type": "execute_result"
    }
   ],
   "source": [
    "# melakukan preprocessing pada data judul\n",
    "df['judul_cleaned']=df['Judul'].apply(clean_text)\n",
    "df.head(10)"
   ]
  },
  {
   "cell_type": "markdown",
   "metadata": {},
   "source": [
    "Lalu hilangkan kolom 'Judul'"
   ]
  },
  {
   "cell_type": "code",
   "execution_count": 7,
   "metadata": {},
   "outputs": [],
   "source": [
    "df.drop(['Judul'],axis=1,inplace=True)"
   ]
  },
  {
   "cell_type": "code",
   "execution_count": 8,
   "metadata": {},
   "outputs": [
    {
     "data": {
      "text/html": [
       "<div>\n",
       "<style scoped>\n",
       "    .dataframe tbody tr th:only-of-type {\n",
       "        vertical-align: middle;\n",
       "    }\n",
       "\n",
       "    .dataframe tbody tr th {\n",
       "        vertical-align: top;\n",
       "    }\n",
       "\n",
       "    .dataframe thead th {\n",
       "        text-align: right;\n",
       "    }\n",
       "</style>\n",
       "<table border=\"1\" class=\"dataframe\">\n",
       "  <thead>\n",
       "    <tr style=\"text-align: right;\">\n",
       "      <th></th>\n",
       "      <th>judul_cleaned</th>\n",
       "    </tr>\n",
       "  </thead>\n",
       "  <tbody>\n",
       "    <tr>\n",
       "      <th>0</th>\n",
       "      <td>Infografis Peta Jalur Mudik Lebaran 2022 Rawan...</td>\n",
       "    </tr>\n",
       "    <tr>\n",
       "      <th>1</th>\n",
       "      <td>Bola Ganjil Kakak Beradik Penyumbang Timnas</td>\n",
       "    </tr>\n",
       "    <tr>\n",
       "      <th>2</th>\n",
       "      <td>Infografis Kuota Haji 2022 Indonesia Biaya Jem...</td>\n",
       "    </tr>\n",
       "    <tr>\n",
       "      <th>3</th>\n",
       "      <td>Optimistis Emil Dardak Jadi Harapan Baru Demok...</td>\n",
       "    </tr>\n",
       "    <tr>\n",
       "      <th>4</th>\n",
       "      <td>Tebet Park Jakarta Selatan Resmi Dibuka Umum</td>\n",
       "    </tr>\n",
       "    <tr>\n",
       "      <th>5</th>\n",
       "      <td>Ketika Perajin Kain Daerah Berkolaborasi Desai...</td>\n",
       "    </tr>\n",
       "    <tr>\n",
       "      <th>6</th>\n",
       "      <td>Sinopsis Film Ziarah Raih Best Screenplay ASEA...</td>\n",
       "    </tr>\n",
       "    <tr>\n",
       "      <th>7</th>\n",
       "      <td>Ramadhan Yaman Berjalan Lancar Berkat Gencatan...</td>\n",
       "    </tr>\n",
       "    <tr>\n",
       "      <th>8</th>\n",
       "      <td>Kisah Antusiasme Pengusaha Pengemudi Jelang Mu...</td>\n",
       "    </tr>\n",
       "    <tr>\n",
       "      <th>9</th>\n",
       "      <td>Mengenal Coin Token Kripto Blockchain Energi</td>\n",
       "    </tr>\n",
       "  </tbody>\n",
       "</table>\n",
       "</div>"
      ],
      "text/plain": [
       "                                       judul_cleaned\n",
       "0  Infografis Peta Jalur Mudik Lebaran 2022 Rawan...\n",
       "1        Bola Ganjil Kakak Beradik Penyumbang Timnas\n",
       "2  Infografis Kuota Haji 2022 Indonesia Biaya Jem...\n",
       "3  Optimistis Emil Dardak Jadi Harapan Baru Demok...\n",
       "4       Tebet Park Jakarta Selatan Resmi Dibuka Umum\n",
       "5  Ketika Perajin Kain Daerah Berkolaborasi Desai...\n",
       "6  Sinopsis Film Ziarah Raih Best Screenplay ASEA...\n",
       "7  Ramadhan Yaman Berjalan Lancar Berkat Gencatan...\n",
       "8  Kisah Antusiasme Pengusaha Pengemudi Jelang Mu...\n",
       "9       Mengenal Coin Token Kripto Blockchain Energi"
      ]
     },
     "execution_count": 8,
     "metadata": {},
     "output_type": "execute_result"
    }
   ],
   "source": [
    "df.head(10)"
   ]
  },
  {
   "cell_type": "markdown",
   "metadata": {},
   "source": [
    "### 3. Ekstraksi Fitur dan Membuat Document-Term-Matrix(DTM)"
   ]
  },
  {
   "cell_type": "markdown",
   "metadata": {},
   "source": [
    "Dalam DTM nilainya adalah nilai TFidf.\n",
    "\n",
    "Saya juga telah menentukan beberapa parameter dari vectorizer Tfidf.\n",
    "\n",
    "Beberapa poin penting:-\n",
    "\n",
    "**1) LSA umumnya diimplementasikan dengan nilai Tfidf di mana-mana dan bukan dengan Count Vectorizer.**\n",
    "\n",
    "**2) max_features bergantung pada daya komputasi Anda dan juga pada eval. metrik (skor koherensi adalah metrik untuk model topik). Coba nilai yang memberikan evaluasi terbaik. metrik dan tidak membatasi kekuatan pemrosesan.**\n",
    "\n",
    "**3) Nilai default untuk min_df & max_df bekerja dengan baik.**\n",
    "\n",
    "**4) Dapat mencoba nilai yang berbeda untuk ngram_range.**"
   ]
  },
  {
   "cell_type": "code",
   "execution_count": 12,
   "metadata": {},
   "outputs": [],
   "source": [
    "vect =TfidfVectorizer(stop_words=stop_words,max_features=1000) # to play with. min_df,max_df,max_features etc..."
   ]
  },
  {
   "cell_type": "code",
   "execution_count": 13,
   "metadata": {},
   "outputs": [],
   "source": [
    "vect_text=vect.fit_transform(df['judul_cleaned'])"
   ]
  },
  {
   "cell_type": "markdown",
   "metadata": {},
   "source": [
    "Sekarang kita dapat melihat kata-kata yang paling sering dan langka di headline berita berdasarkan skor idf. Semakin kecil nilainya."
   ]
  },
  {
   "cell_type": "code",
   "execution_count": 14,
   "metadata": {},
   "outputs": [
    {
     "name": "stdout",
     "output_type": "stream",
     "text": [
      "(52, 319)\n",
      "  (0, 41)\t0.3963441324825203\n",
      "  (0, 259)\t0.3963441324825203\n",
      "  (0, 5)\t0.2315858531330811\n",
      "  (0, 172)\t0.2633364363176198\n",
      "  (0, 212)\t0.2386486585421916\n",
      "  (0, 126)\t0.3963441324825203\n",
      "  (0, 244)\t0.4378516258949888\n",
      "  (0, 115)\t0.3963441324825203\n",
      "  (1, 300)\t0.375237916193398\n",
      "  (1, 235)\t0.4145350422463308\n",
      "  (1, 42)\t0.4145350422463308\n",
      "  (1, 137)\t0.4145350422463308\n",
      "  (1, 97)\t0.4145350422463308\n",
      "  (1, 53)\t0.4145350422463308\n",
      "  (2, 288)\t0.35407116943965256\n",
      "  (2, 132)\t0.39115158902605723\n",
      "  (2, 48)\t0.39115158902605723\n",
      "  (2, 114)\t0.3073553655740414\n",
      "  (2, 103)\t0.39115158902605723\n",
      "  (2, 164)\t0.39115158902605723\n",
      "  (2, 5)\t0.20688555001662842\n",
      "  (2, 115)\t0.35407116943965256\n",
      "  (3, 129)\t0.4145350422463308\n",
      "  (3, 73)\t0.4145350422463308\n",
      "  (3, 105)\t0.4145350422463308\n",
      "  :\t:\n",
      "  (48, 288)\t0.3237121609307931\n",
      "  (49, 240)\t0.4420944202490175\n",
      "  (49, 154)\t0.4420944202490175\n",
      "  (49, 76)\t0.4420944202490175\n",
      "  (49, 314)\t0.4420944202490175\n",
      "  (49, 239)\t0.4001847180784101\n",
      "  (49, 212)\t0.2409611706380178\n",
      "  (50, 289)\t0.36181616781657133\n",
      "  (50, 211)\t0.36181616781657133\n",
      "  (50, 98)\t0.36181616781657133\n",
      "  (50, 283)\t0.36181616781657133\n",
      "  (50, 247)\t0.36181616781657133\n",
      "  (50, 6)\t0.36181616781657133\n",
      "  (50, 106)\t0.32751668983365123\n",
      "  (50, 300)\t0.32751668983365123\n",
      "  (51, 72)\t0.31622776601683794\n",
      "  (51, 71)\t0.31622776601683794\n",
      "  (51, 29)\t0.31622776601683794\n",
      "  (51, 292)\t0.31622776601683794\n",
      "  (51, 50)\t0.31622776601683794\n",
      "  (51, 298)\t0.31622776601683794\n",
      "  (51, 89)\t0.31622776601683794\n",
      "  (51, 263)\t0.31622776601683794\n",
      "  (51, 268)\t0.31622776601683794\n",
      "  (51, 155)\t0.31622776601683794\n"
     ]
    }
   ],
   "source": [
    "print(vect_text.shape)\n",
    "print(vect_text)"
   ]
  },
  {
   "cell_type": "code",
   "execution_count": 15,
   "metadata": {},
   "outputs": [],
   "source": [
    "idf=vect.idf_"
   ]
  },
  {
   "cell_type": "code",
   "execution_count": 16,
   "metadata": {},
   "outputs": [
    {
     "name": "stdout",
     "output_type": "stream",
     "text": [
      "3.3608540011180215\n",
      "4.277144732992177\n"
     ]
    }
   ],
   "source": [
    "dd=dict(zip(vect.get_feature_names(), idf))\n",
    "l=sorted(dd, key=(dd).get)\n",
    "# print(l)\n",
    "print(dd['covid'])\n",
    "print(dd['sinopsis'])"
   ]
  },
  {
   "cell_type": "markdown",
   "metadata": {},
   "source": [
    "Dapat terlihat bahwa berdasarkan **nilai idf** , **'covid'** adalah kata **paling sering** sedangkan **'sinopsis'** **paling jarang** muncul di antara berita."
   ]
  },
  {
   "cell_type": "markdown",
   "metadata": {},
   "source": [
    "### LSA (Latent Semantic Analysis)"
   ]
  },
  {
   "cell_type": "markdown",
   "metadata": {},
   "source": [
    "**LSA pada dasarnya adalah dekomposisi nilai tunggal.**\n",
    "\n",
    "**SVD menguraikan DTM asli menjadi tiga matriks S=U.(sigma).(V.T). Di sini matriks U menunjukkan matriks topik-dokumen sedangkan (V) adalah matriks istilah-topik.**\n",
    "\n",
    "**Setiap baris dari matriks U(matriks term dokumen) adalah representasi vektor dari dokumen yang bersangkutan. Panjang vektor ini adalah jumlah topik yang diinginkan. Representasi vektor untuk suku-suku dalam data kami dapat ditemukan dalam matriks V (matriks istilah-topik).**\n",
    "\n",
    "Jadi, SVD memberi kita vektor untuk setiap dokumen dan istilah dalam data kita. Panjang setiap vektor adalah k. **Kemudian kita dapat menggunakan vektor-vektor ini untuk menemukan kata dan dokumen serupa menggunakan metode kesamaan kosinus.**\n",
    "\n",
    "Kita dapat menggunakan fungsi truncatedSVD untuk mengimplementasikan LSA. Parameter n_components adalah jumlah topik yang ingin kita ekstrak.\n",
    "Model tersebut kemudian di fit dan ditransformasikan pada hasil yang diberikan oleh vectorizer.\n",
    "\n",
    "**Terakhir perhatikan bahwa LSA dan LSI (I untuk pengindeksan) adalah sama dan yang terakhir hanya terkadang digunakan dalam konteks pencarian informasi.**"
   ]
  },
  {
   "cell_type": "code",
   "execution_count": 17,
   "metadata": {},
   "outputs": [],
   "source": [
    "from sklearn.decomposition import TruncatedSVD\n",
    "lsa_model = TruncatedSVD(n_components=10, algorithm='randomized', n_iter=10, random_state=42)\n",
    "\n",
    "lsa_top=lsa_model.fit_transform(vect_text)\n"
   ]
  },
  {
   "cell_type": "code",
   "execution_count": 18,
   "metadata": {},
   "outputs": [
    {
     "name": "stdout",
     "output_type": "stream",
     "text": [
      "[[ 4.79906349e-01 -2.55465246e-01 -3.54244632e-02 -2.41663524e-01\n",
      "   3.81980295e-02  1.37193408e-01 -1.08157366e-01  2.44123479e-02\n",
      "   2.58942410e-02 -2.12210430e-01]\n",
      " [ 5.54831363e-06 -2.26069877e-05 -1.44172400e-04 -9.74354526e-04\n",
      "   5.95648969e-03  1.80944777e-02  2.13900808e-02  5.78919511e-02\n",
      "   5.72398259e-01  1.51078263e-01]\n",
      " [ 1.75219482e-01 -1.12552307e-01 -2.76982311e-02 -3.09172781e-01\n",
      "   2.89581388e-01 -1.57181147e-01  1.95679764e-01  1.20434615e-01\n",
      "   5.60747202e-02 -1.40853507e-01]\n",
      " [ 3.98118319e-03 -7.77138367e-03 -3.17039265e-03 -3.22414729e-02\n",
      "   2.55098825e-01 -1.74386187e-01  1.72819030e-01 -1.10409951e-01\n",
      "  -6.85012773e-02  4.86634441e-02]\n",
      " [-4.61511199e-06 -1.05583869e-04 -9.65736932e-05  2.77536657e-04\n",
      "   5.69450352e-03 -1.98087414e-03 -3.04442240e-02  3.00665439e-01\n",
      "  -1.46507276e-01  3.39223543e-02]\n",
      " [ 9.72589047e-02 -3.78027667e-02 -1.22718828e-02 -1.63026272e-01\n",
      "  -1.02165987e-01 -9.89364733e-02  6.65692227e-02  3.43758161e-02\n",
      "   3.60189562e-02  3.86650953e-02]\n",
      " [-2.49635509e-06 -1.85395397e-04 -3.25971895e-04  2.82754779e-04\n",
      "  -3.55468835e-03  5.41849890e-03  5.86653547e-03  4.62084462e-03\n",
      "  -4.19813683e-02 -8.15178646e-04]\n",
      " [-5.87505873e-06  1.11362378e-04 -4.88481610e-04  7.09562721e-04\n",
      "   1.13896773e-02  1.60236862e-02 -3.25591954e-02 -9.15583994e-02\n",
      "   9.19031896e-03  1.43968373e-02]\n",
      " [ 4.82724784e-01 -1.46399997e-01 -2.20137833e-02  5.26521298e-02\n",
      "  -9.27379140e-02 -4.71044740e-02  2.18701228e-02  1.47439076e-02\n",
      "   3.28996014e-02 -9.99558861e-02]\n",
      " [-1.23823604e-06 -6.54822264e-05  1.17373902e-04 -2.10795755e-04\n",
      "  -1.22475257e-02  5.68203516e-01  5.38394787e-01 -5.23608079e-03\n",
      "   4.76679396e-03  2.67046563e-03]\n",
      " [ 6.44723828e-01  1.70685421e-01 -9.45863000e-04  5.66986013e-01\n",
      "   3.99773568e-02 -8.00622367e-02  8.98162442e-02  3.84583795e-02\n",
      "   1.57345860e-02 -7.84463097e-02]\n",
      " [ 4.63947386e-01 -2.07839245e-01 -2.41292896e-02 -1.40349723e-01\n",
      "  -1.16662720e-01  4.62240039e-03 -2.30727360e-02 -2.27600116e-04\n",
      "   1.19329923e-02 -2.50644823e-02]\n",
      " [-1.06695736e-05 -4.76226516e-05  4.98331780e-05  1.75586215e-03\n",
      "  -9.79247806e-03 -2.49952701e-02 -2.77565568e-02  1.24765591e-01\n",
      "   4.65573079e-01 -1.16826232e-02]\n",
      " [ 4.37494463e-03 -8.90758034e-03 -2.79276167e-03 -3.43367687e-02\n",
      "   2.80141706e-01 -1.84729146e-01  1.91665616e-01 -8.10932052e-02\n",
      "  -3.20852986e-02  5.92753795e-02]\n",
      " [ 7.39171904e-06 -1.53719110e-05  8.99996994e-04 -1.48032918e-03\n",
      "   3.18179056e-02 -5.87660913e-03 -3.95391852e-02 -8.67760989e-03\n",
      "   3.72632306e-02  8.32673923e-04]\n",
      " [ 1.64825842e-01  3.85127924e-01  1.14070064e-02 -4.43929376e-01\n",
      "  -2.31654313e-01 -9.95744282e-02  8.47031420e-02 -2.22850065e-02\n",
      "   1.95845026e-02 -2.32259629e-01]\n",
      " [ 6.73684043e-02  3.49531232e-02 -5.67786885e-04  1.76172317e-01\n",
      "   2.49111192e-02 -5.61855265e-02  1.28541356e-01  9.08211933e-02\n",
      "  -4.06991688e-02 -1.05945840e-01]\n",
      " [-1.29025121e-05 -5.30763209e-04 -1.45866032e-05 -2.99082499e-04\n",
      "  -5.45999997e-03  4.09798143e-02 -3.14811603e-02  4.79870316e-03\n",
      "   3.84523739e-02  4.04383917e-02]\n",
      " [ 2.91056716e-02 -2.93840232e-02 -5.94299310e-03 -4.27678971e-02\n",
      "   1.91024345e-02  5.77957736e-02  1.16324513e-03  1.96544154e-02\n",
      "   1.06868668e-02 -1.56920632e-01]\n",
      " [ 8.92804812e-06 -4.93826745e-05 -4.00373497e-04 -2.52529225e-03\n",
      "  -1.94458222e-02 -3.15391316e-02 -8.21884117e-03  3.41742313e-02\n",
      "  -5.80838943e-02  1.14955925e-01]\n",
      " [ 9.70760854e-02  1.44189811e-01  2.51467677e-03 -1.02646518e-01\n",
      "   3.40437168e-01  3.03425473e-01 -3.17359134e-01  3.81341586e-02\n",
      "  -5.66679846e-02  3.57196749e-01]\n",
      " [ 3.04753092e-01  7.62169781e-01  3.72084021e-02  6.55623083e-03\n",
      "   1.07837385e-01  6.82130864e-02 -6.04430904e-02 -1.51357112e-02\n",
      "  -6.37626743e-03  1.11999256e-01]\n",
      " [ 2.86302724e-01 -1.49089664e-01 -1.43893019e-02 -1.67275786e-01\n",
      "  -2.70067594e-01 -1.35222789e-01  1.86282041e-01 -1.35786232e-01\n",
      "  -6.27970759e-02  5.04370715e-01]\n",
      " [ 4.84068930e-02 -5.01551322e-02 -1.21044846e-02 -1.35285080e-01\n",
      "   5.75561066e-01 -2.92255472e-01  3.00463475e-01 -7.94194310e-02\n",
      "  -3.55677119e-02  4.13791004e-02]\n",
      " [ 1.14520526e-06  1.95169414e-04 -5.10885055e-05  1.89070835e-03\n",
      "  -6.77212613e-04  2.72412486e-01  2.85407023e-01 -1.14849984e-02\n",
      "   2.36233481e-02  5.25123458e-02]\n",
      " [ 3.62953239e-02 -3.72348616e-02 -8.19828327e-03 -9.71929330e-02\n",
      "   3.47909797e-01 -1.18913460e-01  1.24271727e-01 -1.60951144e-02\n",
      "   6.23660899e-02 -7.11254014e-02]\n",
      " [ 6.46882416e-06 -1.32708863e-04 -1.44300475e-04  1.67702009e-04\n",
      "   8.92463965e-03  1.04308997e-02 -2.53634750e-02  4.63276264e-01\n",
      "  -1.75951255e-01  5.76156403e-02]\n",
      " [ 6.26374780e-03 -2.62459657e-02  5.75809666e-01 -1.28726581e-02\n",
      "   1.02202053e-02  7.71222974e-03  1.79368317e-02  4.31730953e-02\n",
      "   6.09427200e-03 -2.48378291e-02]\n",
      " [ 2.54880150e-01 -1.44275439e-01 -2.01037108e-02 -1.09007262e-01\n",
      "   2.77149484e-01  3.49269565e-01 -3.51092821e-01  1.17577976e-02\n",
      "  -4.79240570e-03  3.33968812e-02]\n",
      " [-2.20656748e-06 -1.70438397e-04  2.08730544e-04 -1.14439109e-03\n",
      "  -1.32616683e-02  4.98451343e-01  4.56124496e-01  5.86102787e-03\n",
      "  -8.69126420e-03 -2.39367077e-02]\n",
      " [ 1.64311402e-01 -1.00117183e-01 -9.93456050e-03 -9.30963660e-03\n",
      "  -1.93837108e-02  1.44128646e-01 -1.60067721e-01 -3.22539742e-02\n",
      "  -3.08777708e-02 -1.95565065e-01]\n",
      " [ 6.20866424e-01  1.68829533e-01 -9.43175104e-04  5.71187688e-01\n",
      "   4.13444997e-02 -8.34154033e-02  9.37130768e-02  4.05337189e-02\n",
      "   1.69806625e-02 -8.33665769e-02]\n",
      " [ 2.23555681e-01  7.15624623e-01  3.69479893e-02 -1.10077507e-01\n",
      "   1.00773544e-01  9.51469260e-02 -9.00615310e-02 -2.94559316e-02\n",
      "  -1.33637234e-02  1.48879888e-01]\n",
      " [ 3.51523259e-01 -5.29606310e-02 -1.06776045e-02  1.89053069e-01\n",
      "  -1.03603553e-01 -1.42536772e-01  1.17283796e-01  4.87801337e-03\n",
      "  -3.60642238e-02  4.30749484e-02]\n",
      " [ 5.38685862e-03 -4.02782502e-03 -1.70810215e-03 -2.77804937e-02\n",
      "  -2.64271485e-02 -3.45283412e-02  5.82437569e-02  5.19420170e-01\n",
      "  -5.48691985e-02  1.22655403e-01]\n",
      " [ 4.29484191e-02 -3.67911511e-02  9.43775935e-02  3.34842392e-03\n",
      "  -9.86346539e-02 -8.72490960e-02  2.42537746e-02 -1.10011265e-01\n",
      "  -5.49005064e-03  3.89692945e-01]\n",
      " [ 7.62433624e-06  2.34178656e-04 -3.07882564e-04 -1.26202860e-03\n",
      "   1.34145785e-02  3.62308469e-02  4.40877310e-02  5.35244673e-03\n",
      "   3.70561995e-02 -1.10443269e-02]\n",
      " [ 2.68915646e-02 -5.47613063e-02  8.97421972e-01 -1.62259204e-02\n",
      "   7.75592112e-03 -3.00810150e-03  1.33377001e-03  2.35231380e-03\n",
      "   9.55943079e-04 -4.59031624e-03]\n",
      " [ 3.45862125e-01 -1.78604729e-01  1.13240305e-01  3.02416521e-02\n",
      "  -5.66566985e-02  5.13611127e-02 -1.04968058e-01 -7.70908533e-02\n",
      "   2.38990103e-02  1.32171617e-01]\n",
      " [ 2.33761500e-01  4.75629837e-01  1.31641629e-02 -4.93089737e-01\n",
      "  -2.12427478e-01 -8.87999900e-02  7.68539536e-02 -1.88295683e-02\n",
      "   1.31146709e-02 -1.72265074e-01]\n",
      " [ 2.84954302e-04 -5.05583680e-04  5.69406325e-06 -4.54479888e-03\n",
      "  -5.40440715e-03  7.39821721e-03  1.74991965e-04  5.46835925e-01\n",
      "  -8.60151675e-02  1.17869875e-01]\n",
      " [ 7.87220749e-02 -3.03110484e-02 -1.06900180e-02 -1.34222408e-01\n",
      "  -8.97283431e-02 -9.34251534e-02  5.08981477e-02  6.46549404e-02\n",
      "  -3.68032513e-02 -4.82944651e-02]\n",
      " [ 3.85763644e-01 -1.95524108e-01 -2.35446263e-02 -1.63738814e-01\n",
      "  -2.24612918e-01 -5.19838899e-02  1.03935551e-01 -1.17167894e-01\n",
      "  -4.76988645e-02  3.61957942e-01]\n",
      " [ 8.48261664e-03 -3.44011571e-02  7.46641485e-01 -1.58688779e-02\n",
      "   2.06759833e-02 -6.19668570e-03  6.56219359e-03 -9.48386109e-04\n",
      "  -8.14238102e-03 -5.72263932e-02]\n",
      " [ 9.27153033e-02 -3.60263134e-02 -1.27520887e-02 -1.60293112e-01\n",
      "  -9.68386720e-02 -1.08020500e-01  1.14612814e-01  3.34926835e-01\n",
      "  -5.98218751e-02  4.43191267e-03]\n",
      " [ 4.68219800e-06  2.06832557e-04  9.68951894e-04  2.96847134e-03\n",
      "   1.08505640e-02  5.26138255e-03  7.81615886e-03 -3.06264636e-03\n",
      "   2.29420720e-02  4.67649699e-02]\n",
      " [ 4.91765801e-01 -2.24252034e-01 -3.23721528e-02 -2.50779381e-01\n",
      "   3.20724058e-01  7.06905816e-02 -8.10427166e-02  2.43308579e-02\n",
      "   4.99510312e-03  7.73968378e-02]\n",
      " [ 4.21398382e-01 -2.19162040e-01 -2.78351954e-02 -1.67599735e-01\n",
      "  -9.72824427e-02  1.02127137e-01 -1.07084532e-01 -2.67246270e-02\n",
      "  -6.92566975e-03 -2.08838220e-01]\n",
      " [ 1.11673114e-02 -1.35008570e-02 -4.84268719e-03 -5.64338812e-02\n",
      "   9.09585304e-02 -6.10017128e-02  1.05126141e-01  1.00077744e-01\n",
      "   6.42580290e-02 -1.58077296e-02]\n",
      " [ 1.81816582e-01 -9.11431395e-02 -8.03547318e-03  5.71260180e-02\n",
      "  -1.37042605e-02  3.14895265e-02 -6.37386815e-02 -2.32369764e-02\n",
      "  -3.06964581e-02 -6.13669469e-02]\n",
      " [-1.75715983e-06  6.04284684e-05 -4.43692266e-04 -1.19970796e-04\n",
      "  -6.50343409e-03 -1.83746984e-02 -4.19050140e-03  1.38080469e-01\n",
      "   7.06797207e-01  6.93323706e-02]\n",
      " [-5.55723321e-06 -2.02134570e-04 -1.17639436e-04  9.34461245e-04\n",
      "   1.98504548e-02  7.88288471e-03  2.35184312e-02 -5.88810309e-02\n",
      "  -2.79354790e-03 -1.08670460e-01]]\n",
      "(52, 10)\n"
     ]
    }
   ],
   "source": [
    "print(lsa_top)\n",
    "print(lsa_top.shape)  # (no_of_doc*no_of_topics)"
   ]
  },
  {
   "cell_type": "code",
   "execution_count": 19,
   "metadata": {},
   "outputs": [
    {
     "name": "stdout",
     "output_type": "stream",
     "text": [
      "Document 0 :\n",
      "Topic  0  :  47.9906348536701\n",
      "Topic  1  :  -25.546524611097755\n",
      "Topic  2  :  -3.5424463177622427\n",
      "Topic  3  :  -24.16635241641774\n",
      "Topic  4  :  3.8198029509193794\n",
      "Topic  5  :  13.719340801974521\n",
      "Topic  6  :  -10.81573655636145\n",
      "Topic  7  :  2.441234790310862\n",
      "Topic  8  :  2.589424104464471\n",
      "Topic  9  :  -21.22104295696171\n"
     ]
    }
   ],
   "source": [
    "l=lsa_top[0]\n",
    "print(\"Document 0 :\")\n",
    "for i,topic in enumerate(l):\n",
    "  print(\"Topic \",i,\" : \",topic*100)\n",
    "  \n"
   ]
  },
  {
   "cell_type": "markdown",
   "metadata": {},
   "source": [
    "Mirip dengan dokumen lain kita bisa melakukan ini. Namun perhatikan bahwa nilai tidak menambah 1 seperti di LSA itu bukan kemungkinan topik dalam dokumen."
   ]
  },
  {
   "cell_type": "code",
   "execution_count": 20,
   "metadata": {},
   "outputs": [
    {
     "name": "stdout",
     "output_type": "stream",
     "text": [
      "(10, 319)\n",
      "[[ 1.62358412e-02  1.62358412e-02  3.62025215e-02 ...  5.91705159e-02\n",
      "  -2.22056348e-06 -6.92364328e-07]\n",
      " [ 5.47874533e-02  5.47874533e-02 -2.72328836e-02 ... -4.41224731e-02\n",
      "   4.20910224e-05 -5.14194315e-05]\n",
      " [ 1.82915134e-03  1.82915134e-03 -2.97615910e-03 ...  3.14387821e-02\n",
      "  -1.84628694e-04 -9.04083372e-05]\n",
      " ...\n",
      " [-5.02357493e-03 -5.02357493e-03 -4.20192571e-02 ... -2.91797024e-02\n",
      "  -3.46058222e-02  1.28159171e-03]\n",
      " [ 5.02322506e-03  5.02322506e-03 -2.01890900e-02 ...  1.17448495e-02\n",
      "   3.47361406e-03 -1.16435366e-02]\n",
      " [-5.66125452e-02 -5.66125452e-02  1.55590759e-01 ...  5.63076176e-02\n",
      "   5.44149302e-03 -2.26089877e-04]]\n"
     ]
    }
   ],
   "source": [
    "print(lsa_model.components_.shape) # (no_of_topics*no_of_words)\n",
    "print(lsa_model.components_)"
   ]
  },
  {
   "cell_type": "markdown",
   "metadata": {},
   "source": [
    "Sekarang bisa mendapatkan daftar kata-kata penting untuk masing-masing dari 10 topik seperti yang ditunjukkan."
   ]
  },
  {
   "cell_type": "code",
   "execution_count": 22,
   "metadata": {},
   "outputs": [
    {
     "name": "stdout",
     "output_type": "stream",
     "text": [
      "Topic 0: \n",
      "mudik lebaran 2022 juta jelang vaksin booster warga rawan menko \n",
      "\n",
      "Topic 1: \n",
      "19 covid vaksin pemudik suntik booster dadakan april positif imbau \n",
      "\n",
      "Topic 2: \n",
      "milan liga inter italia roma link live streaming jalan dapatkan \n",
      "\n",
      "Topic 3: \n",
      "juta warga jelang booster vaksin bekasi antusias malang perjalanan mudik \n",
      "\n",
      "Topic 4: \n",
      "indonesia menko mitratel optimistis menara pengembangan telekomunikasi pemudik endemi harap \n",
      "\n",
      "Topic 5: \n",
      "kripto token energi menko blockchain coin mengenal jalur pemudik kosong \n",
      "\n",
      "Topic 6: \n",
      "kripto token energi blockchain coin mengenal mitratel optimistis indonesia anak \n",
      "\n",
      "Topic 7: \n",
      "fakta pedagang muncul tebet gerd hoaks kabar kematian mendadak menyebabkan \n",
      "\n",
      "Topic 8: \n",
      "timnas hasil 23 garuda muda pohang steelers takluk beradik bola \n",
      "\n",
      "Topic 9: \n",
      "jasa marga mobil hati pemudik 10 catat jabotabek ribu tinggalkan \n",
      "\n"
     ]
    }
   ],
   "source": [
    "# most important words for each topic\n",
    "vocab = vect.get_feature_names()\n",
    "\n",
    "for i, comp in enumerate(lsa_model.components_):\n",
    "    vocab_comp = zip(vocab, comp)\n",
    "    sorted_words = sorted(vocab_comp, key= lambda x:x[1], reverse=True)[:10]\n",
    "    print(\"Topic \"+str(i)+\": \")\n",
    "    for t in sorted_words:\n",
    "        print(t[0],end=\" \")\n",
    "    print(\"\\n\")\n",
    "         "
   ]
  },
  {
   "cell_type": "code",
   "execution_count": null,
   "metadata": {},
   "outputs": [],
   "source": []
  }
 ],
 "metadata": {
  "kernelspec": {
   "display_name": "Python 3 (ipykernel)",
   "language": "python",
   "name": "python3"
  },
  "language_info": {
   "codemirror_mode": {
    "name": "ipython",
    "version": 3
   },
   "file_extension": ".py",
   "mimetype": "text/x-python",
   "name": "python",
   "nbconvert_exporter": "python",
   "pygments_lexer": "ipython3",
   "version": "3.9.7"
  },
  "widgets": {
   "application/vnd.jupyter.widget-state+json": {
    "state": {},
    "version_major": 2,
    "version_minor": 0
   }
  }
 },
 "nbformat": 4,
 "nbformat_minor": 4
}
